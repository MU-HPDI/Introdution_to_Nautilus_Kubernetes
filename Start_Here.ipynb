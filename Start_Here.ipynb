{
 "cells": [
  {
   "cell_type": "markdown",
   "metadata": {},
   "source": [
    "# Setting Up Research Jobs in the Nautilus Kubernetes Hyper-Cluster\n",
    "\n",
    "This module investigates the use of Kubernetes based cluster computing for supporting parallel data analytics in NSF cluster computer (Nautilus)\n",
    "  1. Kubernetes\n",
    "  2. NSF Nautilus\n",
    " "
   ]
  },
  {
   "cell_type": "markdown",
   "metadata": {},
   "source": [
    "# Kubernetes Fundamentals"
   ]
  },
  {
   "cell_type": "markdown",
   "metadata": {},
   "source": [
    "## Extra Reading Material (for self-study)\n",
    "[Kubernetes definition](https://kubernetes.io/docs/concepts/overview/what-is-kubernetes/)  \n",
    "[Kubernetes components](https://kubernetes.io/docs/concepts/overview/components/)  \n",
    "[Kubernetes workload](https://kubernetes.io/docs/concepts/workloads/)  \n",
    "[Kubectl](https://kubernetes.io/docs/tasks/tools/)\n",
    "1. [Pods](https://kubernetes.io/docs/concepts/workloads/pods/)\n",
    "2. [Jobs](https://kubernetes.io/docs/concepts/workloads/controllers/job/)\n",
    "3. [Persistent volume](https://kubernetes.io/docs/concepts/storage/persistent-volumes/)  \n",
    "\n",
    "\n",
    "## Videos\n",
    "[Kubernetes YAML File Explained](https://www.youtube.com/watch?v=qmDzcu5uY1I&ab_channel=TechWorldwithNana)\n"
   ]
  },
  {
   "cell_type": "markdown",
   "metadata": {},
   "source": [
    "# NSF Nautilus"
   ]
  },
  {
   "cell_type": "markdown",
   "metadata": {},
   "source": [
    "## 1. Run a simple pod \n",
    "\n",
    "* [Setup and Test kubectl](./activities/SetupAndTest_kubectl.ipynb)   \n",
    "\n",
    "### Support Files for Lab \n",
    "\n",
    "#### Review these files, they can also be downloaded\n",
    "* [Simple pod yaml file](./resources/pod_python.yml)      \n",
    "* [Python code to process image](./resources/process_image.py)\n",
    "\n",
    "\n",
    "#### These are data files that we will practice with in the resources folder.\n",
    "* [Image1 to be processed](./resources/image1.npy)\n",
    "* [Image2 to be processed](./resources/image2.npy)\n"
   ]
  },
  {
   "cell_type": "markdown",
   "metadata": {},
   "source": [
    "## 2. Create a persistent volume and attach it to a pod\n",
    "\n",
    "* [Create a persistent volume notebook](./activities/PersistentVolume.ipynb)\n",
    "\n",
    "### Support Files for Practice\n",
    "* [YAML File - Create a persistent volume](./resources/persistent_volume.yml)\n",
    "* [YAML File - Mount a persistent_volume on a pod](./resources/pod_pvc.yml)\n",
    "* [YAML File - Mount two persistent volumes and copy data between them](./resources/job_copy_data.yml)\n"
   ]
  },
  {
   "cell_type": "markdown",
   "metadata": {},
   "source": [
    "## 3. Final Activity!\n",
    "\n",
    "[Convolutional Neural Network on Nautilus](./activities/CNN_Training.ipynb)\n"
   ]
  },
  {
   "cell_type": "markdown",
   "metadata": {},
   "source": [
    "## Thank you for working through the activities on this workshop!\n",
    "\n",
    "### This workshop creation and delivery was supported by the National Science Foundation (NSF)\n",
    "\n",
    "### [NSF Award Search: Award #1925681 - CC* Team: Great Plains Regional CyberTeam](https://www.nsf.gov/awardsearch/showAward?AWD_ID=1925681)\n"
   ]
  }
 ],
 "metadata": {
  "kernelspec": {
   "display_name": "Python 3 (ipykernel)",
   "language": "python",
   "name": "python3"
  },
  "language_info": {
   "codemirror_mode": {
    "name": "ipython",
    "version": 3
   },
   "file_extension": ".py",
   "mimetype": "text/x-python",
   "name": "python",
   "nbconvert_exporter": "python",
   "pygments_lexer": "ipython3",
   "version": "3.9.10"
  }
 },
 "nbformat": 4,
 "nbformat_minor": 4
}
