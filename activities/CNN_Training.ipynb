{
 "cells": [
  {
   "cell_type": "markdown",
   "metadata": {},
   "source": [
    "# Exercise: Train a U-Net for semantic segmentation in Nautilus\n",
    "\n",
    "\n",
    "## <span style='color:green'>Before you get started, ensure you have successfully completed the [persistent volume notebook](./activities/PersistenVolume.ipynb)!</span>\n"
   ]
  },
  {
   "cell_type": "code",
   "execution_count": 2,
   "metadata": {},
   "outputs": [],
   "source": [
    "import os\n",
    "import sys\n",
    "\n",
    "from jinja2 import Template\n",
    "import yaml"
   ]
  },
  {
   "cell_type": "markdown",
   "metadata": {},
   "source": [
    "# Part 1 Generate yml file for jobs"
   ]
  },
  {
   "cell_type": "markdown",
   "metadata": {},
   "source": [
    "Instead of maually creating multiple yml files that vary very little from each other, we can exploit this advantage by generating them automatically"
   ]
  },
  {
   "cell_type": "code",
   "execution_count": 3,
   "metadata": {},
   "outputs": [],
   "source": [
    "template ='''\n",
    "apiVersion: batch/v1\n",
    "kind: Job\n",
    "metadata:\n",
    "  name: job-unet-train-{{sso}}-{{fold}}\n",
    "spec:\n",
    "  template:\n",
    "    spec:\n",
    "      automountServiceAccountToken: false\n",
    "      containers:\n",
    "      - name: pod-unet-train-{{sso}}-{{fold}}\n",
    "        image: gitlab-registry.nrp-nautilus.io/aomqc/umc_dsa_8430_sp2022_image:latest\n",
    "        workingDir: /{{persistentVolume_name}}\n",
    "        command: [\"/bin/sh\",\"-c\"]\n",
    "        args: [\"python3 U_Net_training.py {{ fold }} {{ epochs }}; python3 U_Net_prediction.py {{ fold }}; python3 U_Net_evaluation.py {{ fold }} \"]\n",
    "        volumeMounts:\n",
    "        - name: {{persistentVolume_name}}\n",
    "          mountPath: /{{persistentVolume_name}}\n",
    "        resources:\n",
    "            limits:\n",
    "              memory: 20Gi\n",
    "              cpu: 1\n",
    "              nvidia.com/gpu: 1\n",
    "            requests:\n",
    "              memory: 20Gi\n",
    "              cpu: 1\n",
    "              nvidia.com/gpu: 1\n",
    "      volumes:\n",
    "      - name: {{persistentVolume_name}} \n",
    "        persistentVolumeClaim:\n",
    "            claimName: {{persistentVolume_name}}\n",
    "      restartPolicy: OnFailure      \n",
    "  backoffLimit: \n",
    "\n",
    "\n",
    "'''"
   ]
  },
  {
   "cell_type": "code",
   "execution_count": 4,
   "metadata": {},
   "outputs": [],
   "source": [
    "j2_template = Template(template)"
   ]
  },
  {
   "cell_type": "markdown",
   "metadata": {},
   "source": [
    "# Fill the variables below with the appropriate information\n",
    "\n",
    "Update SSO with your Name, as in prior notebooks!"
   ]
  },
  {
   "cell_type": "code",
   "execution_count": 5,
   "metadata": {},
   "outputs": [],
   "source": [
    "sso = 'scottgs' # as string\n",
    "persistentVolume_name = 'scottgs-pv' # as string\n",
    "epochs = 10 # you can choose a different value if you wish"
   ]
  },
  {
   "cell_type": "code",
   "execution_count": 6,
   "metadata": {},
   "outputs": [],
   "source": [
    "for fold in list(range(5)):\n",
    "    data = {'fold':fold,'sso':sso,'persistentVolume_name':persistentVolume_name,'epochs':epochs}\n",
    "    output_file = j2_template.render(data)\n",
    "    fileout = open('job-U_Net_training-{}-{}.yml'.format(sso,fold),'w')\n",
    "    fileout.write(output_file)\n",
    "    fileout.close()"
   ]
  },
  {
   "cell_type": "markdown",
   "metadata": {},
   "source": [
    "### Before you continue, verify that you have created the 5 YAML files.\n",
    "\n",
    "![Kubernetes_Exercise_CreatedYAML_FromTemplate.png MISSING](../images/Kubernetes_Exercise_CreatedYAML_FromTemplate.png)\n",
    "\n"
   ]
  },
  {
   "cell_type": "markdown",
   "metadata": {},
   "source": [
    "---\n",
    "# Part 2 Submit a job for training\n",
    "\n",
    "\n",
    "You will have to submit each job manually, so you will have to do it 5 times since we have 5 folds.  \n",
    "\n",
    "### For the same of the workshop, we will just submit our first YAML file.\n",
    "\n",
    "Note, the below command is an example, where `{sso}` would be replaced with your actual SSO id, as you entered for the variable above.\n",
    "\n",
    "```BASH\n",
    "kubectl -n gpn-mizzou-tutorial create -f job-U_Net_training-{sso}-{fold}.yml\n",
    "```\n"
   ]
  },
  {
   "cell_type": "markdown",
   "metadata": {},
   "source": [
    "You can monitor the progress of your training by checking on your pods  \n",
    "```BASH\n",
    "kubectl -n gpn-mizzou-tutorial  get pods\n",
    "```\n",
    "\n",
    "\n",
    "Eventually, your pods should all be completed!\n",
    "\n",
    "```BASH\n",
    "jovyan@jupyter-scottgs-40missouri-2eedu:~/ParallelProgrammingAnalytics/module5/exercises$ kubectl get pods\n",
    "NAME                                READY   STATUS      RESTARTS   AGE\n",
    "job-unet-train-scottgs-0--1-zqs8w   0/1     Completed   0          9m15s\n",
    "job-unet-train-scottgs-1--1-vlpxz   0/1     Completed   0          16m\n",
    "job-unet-train-scottgs-2--1-q9c4s   0/1     Completed   0          9m12s\n",
    "job-unet-train-scottgs-3--1-kmngw   0/1     Completed   0          9m8s\n",
    "job-unet-train-scottgs-4--1-n659m   0/1     Completed   0          9m5s\n",
    "```\n",
    "\n",
    "\n",
    "### If not all your jobs complete successfully, you may need to resubmit it!\n",
    "\n",
    "Connecting to your PVC, you can check for the existance of the expected output files.\n",
    "\n",
    "When you have all your evaluation files, you are good to proceed.\n",
    "\n",
    "```BASH\n",
    "root@pod-scottgs:/data# find evaluation/ | sort\n",
    "evaluation/\n",
    "evaluation/eval_results_train0.csv\n",
    "evaluation/eval_results_train1.csv\n",
    "evaluation/eval_results_train2.csv\n",
    "evaluation/eval_results_train3.csv\n",
    "evaluation/eval_results_train4.csv\n",
    "evaluation/eval_results_validation0.csv\n",
    "evaluation/eval_results_validation1.csv\n",
    "evaluation/eval_results_validation2.csv\n",
    "evaluation/eval_results_validation3.csv\n",
    "evaluation/eval_results_validation4.csv\n",
    "```"
   ]
  },
  {
   "cell_type": "markdown",
   "metadata": {},
   "source": [
    "# Part 3: Clean Up!\n",
    "\n",
    "Once you have captured all the necessary screen shots, please clean up the pods and jobs.\n",
    "\n",
    "**Important** Do not clean up your persistent volume storage, as the data you copied in is **required** for the next part of the workshop!\n",
    "\n",
    "Here are some hints on clean up, where you will need to update them a little. \n",
    "\n",
    "See the Kubernetes documentation.\n",
    " * Cleaning up a job or pod: `kubectl -n gpn-mizzou-tutorial delete -f -f job-U_Net_training-{sso}-{fold}.yml`\n"
   ]
  },
  {
   "cell_type": "markdown",
   "metadata": {},
   "source": [
    "---\n",
    "\n",
    "# Notebook Complete\n",
    "\n",
    "You have learned how to\n",
    " * Create multiple YAML files using scripting\n",
    " * Launch Pods with customized images\n",
    " \n",
    " \n",
    "### If you would like a walk through of creating a custom container image and using the Nautilus Gitlab system, please see this video from Anes.\n",
    " * [Creating a custom container image for Nautilus](https://youtu.be/hNFMka10gFA)\n"
   ]
  }
 ],
 "metadata": {
  "kernelspec": {
   "display_name": "Python 3 (ipykernel)",
   "language": "python",
   "name": "python3"
  },
  "language_info": {
   "codemirror_mode": {
    "name": "ipython",
    "version": 3
   },
   "file_extension": ".py",
   "mimetype": "text/x-python",
   "name": "python",
   "nbconvert_exporter": "python",
   "pygments_lexer": "ipython3",
   "version": "3.9.10"
  }
 },
 "nbformat": 4,
 "nbformat_minor": 4
}
