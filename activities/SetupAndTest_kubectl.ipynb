{
 "cells": [
  {
   "cell_type": "markdown",
   "metadata": {},
   "source": [
    "# Setting Up and Testing kubectl to control a kubernetes cluster"
   ]
  },
  {
   "cell_type": "markdown",
   "metadata": {},
   "source": [
    "# Part 1 - Started during Workshop Slides\n",
    "\n",
    "For this module, the Nautilus Jupyter Lap environment is our working environment.  \n",
    "To control the Kubernetes cluster, please use the **Stack Datascience**."
   ]
  },
  {
   "cell_type": "markdown",
   "metadata": {},
   "source": [
    "## 1.0 Get the Nautilus Kubernetes Configuration File\n",
    "\n",
    "https://nautilus.optiputer.net/\n",
    "\n",
    "![Nautilus_get_config.png MISSING](../images/Nautilus_get_config.png)\n",
    "\n",
    "After you get the file downloaded, please follow directions they provide!\n",
    "![Nautilus_get_config_post_download.png MISSING](../images/Nautilus_get_config_post_download.png)\n",
    "\n",
    "### The simple way to put the `config` into your Nautilus Jupyter Lab\n",
    "\n",
    "1. Upload into the top-level (home) folder.\n",
    "2. Create the kubernetes config folder, and then move the config into that folder.\n",
    "```BASH\n",
    "jovyan@jupyter-scottgs-40missouri-2eedu:~$ mkdir ~/.kube\n",
    "jovyan@jupyter-scottgs-40missouri-2eedu:~$ mv config ~/.kube/\n",
    "```\n"
   ]
  },
  {
   "cell_type": "markdown",
   "metadata": {},
   "source": [
    "---\n",
    "\n",
    "## 1.1 Install kubectl into your container on your Nautilus Jupyter Lab \n",
    "\n",
    "### Linux\n",
    "\n",
    "https://kubernetes.io/docs/tasks/tools/install-kubectl-linux/\n",
    "\n",
    "Specifically **_Install using native package management_**:   \n",
    "https://kubernetes.io/docs/tasks/tools/install-kubectl-linux/#install-using-native-package-management\n",
    "\n",
    "#### Please confirm that you follow the steps and see the `Setting up kubectl (1.23.4-00)` or at least some version that starts with 1.23\n",
    "\n",
    "```BASH\n",
    "jovyan@jupyter-scottgs-40missouri-2eedu:~$ sudo apt-get install -y kubectl\n",
    "Reading package lists... Done\n",
    "Building dependency tree       \n",
    "Reading state information... Done\n",
    "The following NEW packages will be installed:\n",
    "  kubectl\n",
    "0 upgraded, 1 newly installed, 0 to remove and 35 not upgraded.\n",
    "Need to get 8,927 kB of archives.\n",
    "After this operation, 46.6 MB of additional disk space will be used.\n",
    "Get:1 https://packages.cloud.google.com/apt kubernetes-xenial/main amd64 kubectl amd64 1.23.4-00 [8,927 kB]\n",
    "Fetched 8,927 kB in 0s (21.4 MB/s)\n",
    "debconf: delaying package configuration, since apt-utils is not installed\n",
    "Selecting previously unselected package kubectl.\n",
    "(Reading database ... 63512 files and directories currently installed.)\n",
    "Preparing to unpack .../kubectl_1.23.4-00_amd64.deb ...\n",
    "Unpacking kubectl (1.23.4-00) ...\n",
    "Setting up kubectl (1.23.4-00) ...\n",
    "```\n",
    "\n",
    "\n",
    "### Test the Confg setup\n",
    "`kubectl cluster-info -n gpn-mizzou-tutorial`"
   ]
  },
  {
   "cell_type": "markdown",
   "metadata": {},
   "source": [
    "### Alternative System Install Guides\n",
    "#### Windows\n",
    "https://kubernetes.io/docs/tasks/tools/install-kubectl-windows/\n",
    "\n",
    "#### Mac\n",
    "\n",
    "https://kubernetes.io/docs/tasks/tools/install-kubectl-macos/\n",
    "\n",
    "\n",
    "### Before you continue, review some of the Nautilus documentation\n",
    " * https://ucsd-prp.gitlab.io/userdocs/start/quickstart/\n",
    " * https://ucsd-prp.gitlab.io/userdocs/tutorial/basic/\n",
    " \n",
    "Of particular note, we need to set the default namespace to `gpn-mizzou-tutorial`\n",
    "\n",
    "```\n"
   ]
  },
  {
   "cell_type": "markdown",
   "metadata": {},
   "source": [
    "# Part 2: Execute a simple pod\n",
    "\n",
    "As we start working on these commands, we will need to change our terminal position to be the workshop folder:\n",
    "```BASH\n",
    "cd Nautilus_Kubernetes_DeepLearning\n",
    "```\n",
    "\n",
    "The result should similar to:\n",
    "```BASH\n",
    "jovyan@jupyter-scottgs-40missouri-2eedu:~$ cd Nautilus_Kubernetes_DeepLearning/\n",
    "jovyan@jupyter-scottgs-40missouri-2eedu:~/Nautilus_Kubernetes_DeepLearning$ \n",
    "```"
   ]
  },
  {
   "cell_type": "markdown",
   "metadata": {},
   "source": [
    "## 2.1 Write yaml file for the pod"
   ]
  },
  {
   "cell_type": "markdown",
   "metadata": {},
   "source": [
    " Open the file `resources/pod_python.yml`.\n",
    "\n",
    " Edit file and replace SSO in line 4 with your Name\n",
    " \n",
    " ![Nautilus_kube_lab_pod_yaml.png MISSING](../images/Nautilus_kube_lab_pod_yaml.png)"
   ]
  },
  {
   "cell_type": "markdown",
   "metadata": {},
   "source": [
    "## 2.2 Run the pod"
   ]
  },
  {
   "cell_type": "markdown",
   "metadata": {},
   "source": [
    "```BASH\n",
    "kubectl -n gpn-mizzou-tutorial create -f resources/pod_python.yml\n",
    "```\n",
    "\n",
    "### Progress Check:  Did you get a response similar to:\n",
    "```\n",
    "pod/pod-python-scottgs created\n",
    "```"
   ]
  },
  {
   "cell_type": "markdown",
   "metadata": {},
   "source": [
    "## 2.3 Check pod "
   ]
  },
  {
   "cell_type": "markdown",
   "metadata": {},
   "source": [
    " Run the command below, it will show you the status of your pod\n",
    "```BASH\n",
    "kubectl -n gpn-mizzou-tutorial get pods\n",
    "```\n",
    "\n",
    "Keep checking the pod status until you see the pod is running!\n",
    "If the pod gets into an error status or stuck somehow, remote it (step 2.9), check your YAML, and go to Step 2.2.\n",
    "```\n",
    "jovyan@jupyter-scottgs-40missouri-2eedu:~/Nautilus_Kubernetes_DeepLearning$ kubectl -n gpn-mizzou-tutorial get pods\n",
    "NAME                     READY   STATUS    RESTARTS   AGE\n",
    "job-copy-data--1-mqz2q   1/1     Running   0          5h36m\n",
    "pod-name-sso             1/1     Running   0          4h42m\n",
    "pod-python-scottgs       1/1     Running   0          58s\n",
    "```"
   ]
  },
  {
   "cell_type": "markdown",
   "metadata": {},
   "source": [
    " ## 2.4 Copy code and image files to _your_ pod\n",
    "\n",
    "For each file referenced below, you will need copy it from the `resources` in your Nautilus Jupyter Lab instance.\n",
    "Example directory listing on Nautilus Jupyter of uploaded files.\n",
    "\n",
    "```\n",
    "process_image.py\n",
    "image1.npy\n",
    "image2.npy\n",
    "pod_python.yml\n",
    "```\n",
    "\n",
    " * Make sure you update the `pod_name` to be your actual pod name.\n",
    "\n",
    "```BASH\n",
    "kubectl -n gpn-mizzou-tutorial cp resources/process_image.py pod_name:home/process_image.py\n",
    "kubectl -n gpn-mizzou-tutorial cp resources/image1.npy pod_name:home/image1.npy\n",
    "kubectl -n gpn-mizzou-tutorial cp resources/image2.npy pod_name:home/image2.npy\n",
    "```"
   ]
  },
  {
   "cell_type": "markdown",
   "metadata": {},
   "source": [
    "## 2.5  Access the pod, look for our copied files.\n",
    "\n",
    "Now we will get interactive access on pod using the command below, where the `/bin/bash` is our terminal shell.\n",
    "\n",
    "```BASH\n",
    "kubectl -n gpn-mizzou-tutorial exec -it pod_name -- /bin/bash\n",
    "\n",
    "cd home\n",
    "\n",
    "ls -lt\n",
    "```"
   ]
  },
  {
   "cell_type": "markdown",
   "metadata": {},
   "source": [
    " #### Example / Expected view\n",
    " \n",
    "```BASH\n",
    "jovyan@jupyter-scottgs-40missouri-2eedu:~$ kubectl -n gpn-mizzou-tutorial exec -it pod-python-scottgs -- /bin/bash\n",
    "root@pod-python-scottgs:/#\n",
    "root@pod-python-scottgs:/# cd home\n",
    "root@pod-python-scottgs:/home# ls -lt\n",
    "total 5372\n",
    "-rw-r--r-- 1 1000 users  422628 Mar  2 05:13 image2.npy\n",
    "-rw-r--r-- 1 1000 users 5070128 Mar  2 05:13 image1.npy\n",
    "-rw-r--r-- 1 1000 users     300 Mar  2 05:13 process_image.py\n",
    "```"
   ]
  },
  {
   "cell_type": "markdown",
   "metadata": {},
   "source": [
    "## 2.6 Install libraries in your pod"
   ]
  },
  {
   "cell_type": "markdown",
   "metadata": {},
   "source": [
    "```BASH\n",
    "pip install numpy  matplotlib pillow\n",
    "```"
   ]
  },
  {
   "cell_type": "markdown",
   "metadata": {},
   "source": [
    "## 2.7 Run Python code "
   ]
  },
  {
   "cell_type": "markdown",
   "metadata": {},
   "source": [
    "```BASH\n",
    "cd /home\n",
    "python3 process_image.py \n",
    "```\n",
    "\n",
    "#### Check Point: After running the program (python code) you should have a new file:\n",
    "```BASH\n",
    "root@pod-python-scottgs:/home# ls -lt | head\n",
    "total 5488\n",
    "-rw-r--r-- 1 root root   118118 Mar  2 05:21 images.png\n",
    "```\n"
   ]
  },
  {
   "cell_type": "markdown",
   "metadata": {},
   "source": [
    "## 2.8 Exit the Pod and Copy resulting image back to your local repo"
   ]
  },
  {
   "cell_type": "markdown",
   "metadata": {},
   "source": [
    "To exit the pod, you can type `exit` or use `[Control]+D` for _disconnect_.  \n",
    "Then, proceed to pull the result image down.\n",
    "\n",
    "```BASH\n",
    "kubectl -n gpn-mizzou-tutorial cp pod_name:home/images.png output_image.png\n",
    "```"
   ]
  },
  {
   "cell_type": "markdown",
   "metadata": {},
   "source": [
    "## 2.9 Delete pod\n"
   ]
  },
  {
   "cell_type": "markdown",
   "metadata": {
    "tags": []
   },
   "source": [
    "```BASH\n",
    "kubectl -n gpn-mizzou-tutorial delete pod pod_name\n",
    "```\n",
    "\n",
    "#### <span style='background:blue'>Did you see a message similar to this?</span>\n",
    "```\n",
    "pod \"pod-python-scottgs\" deleted\n",
    "```"
   ]
  },
  {
   "cell_type": "markdown",
   "metadata": {},
   "source": [
    "---\n",
    "\n",
    "# Notebook Complete\n",
    "\n",
    "You have learned how to\n",
    " * spin up pods, \n",
    " * copy files to and from pods, \n",
    " * access the running pod\n",
    " * clean up pods"
   ]
  }
 ],
 "metadata": {
  "kernelspec": {
   "display_name": "Python 3 (ipykernel)",
   "language": "python",
   "name": "python3"
  },
  "language_info": {
   "codemirror_mode": {
    "name": "ipython",
    "version": 3
   },
   "file_extension": ".py",
   "mimetype": "text/x-python",
   "name": "python",
   "nbconvert_exporter": "python",
   "pygments_lexer": "ipython3",
   "version": "3.9.10"
  }
 },
 "nbformat": 4,
 "nbformat_minor": 4
}
