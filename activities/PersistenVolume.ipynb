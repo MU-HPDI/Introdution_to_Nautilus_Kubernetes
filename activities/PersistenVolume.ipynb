{
 "cells": [
  {
   "cell_type": "markdown",
   "metadata": {},
   "source": [
    "# Practice Create persistent volume and link it to a pod\n",
    "\n",
    "For this practice, we are going to integrate persisent volumes (data storage) into our pod.\n",
    "In the lab activity, you simply uploaded and downloaded files to and from the running pod.\n",
    "This is using ephemeral storage, that is a data storage area that simply disappears when the container / pod shuts down.\n",
    "\n",
    "##### Make sure you have read the information on persistent volumes linked into this module."
   ]
  },
  {
   "cell_type": "markdown",
   "metadata": {},
   "source": [
    "# Part 1: Create persistent volume"
   ]
  },
  {
   "cell_type": "markdown",
   "metadata": {},
   "source": [
    "## Modify the yml file "
   ]
  },
  {
   "cell_type": "markdown",
   "metadata": {},
   "source": [
    "Edit  `resources/persistent_volume.yml`   \n",
    "Specify the name of your persistent volume in line 4 (replace `your_name`) with your `SSO-pv`"
   ]
  },
  {
   "cell_type": "markdown",
   "metadata": {},
   "source": [
    "```BASH\n",
    "kubectl -n gpn-mizzou-tutorial create -f persistent_volume.yml\n",
    "```\n",
    "\n",
    "##### Progress Check: Did you see something similar to:\n",
    "```BASH\n",
    "jovyan@jupyter-scottgs-40missouri-2eedu:~$ kubectl -n gpn-mizzou-tutorial create -f persistent_volume.yml\n",
    "persistentvolumeclaim/scottgs-pv created\n",
    "```\n"
   ]
  },
  {
   "cell_type": "markdown",
   "metadata": {},
   "source": [
    "## Check if the persistent volume is created"
   ]
  },
  {
   "cell_type": "markdown",
   "metadata": {},
   "source": [
    "The command below will list all persitent volumes related to your namespace\n",
    "\n",
    "```BASH\n",
    "kubectl -n gpn-mizzou-tutorial get pvc\n",
    "```"
   ]
  },
  {
   "cell_type": "markdown",
   "metadata": {},
   "source": [
    "## Attach the persistent volume\n",
    "\n",
    "  The only way to access persistent volume is by attaching it to a pod. \n",
    "  This requires some modification of the yaml file of the pod to be set up"
   ]
  },
  {
   "cell_type": "markdown",
   "metadata": {
    "jp-MarkdownHeadingCollapsed": true,
    "tags": []
   },
   "source": [
    "## Modify pod yaml file to mount persistent volume\n",
    "\n",
    "Open `resources/pod_pvc.yml` in a text editor and perform the following:   \n",
    "* line  4: Update pod name    \n",
    "* line 18: This is the folder name that appears when you access your pod   \n",
    "* line 19: Specify a name of the mounted volume to be recognized by the pod, for simplicity you can use the same name as the persistent volume\n",
    "* line 21: This needs to be the same as in line 19   \n",
    "* line 23: Add the persistent volume name as specified in the previous section.      \n",
    "\n",
    " \n"
   ]
  },
  {
   "cell_type": "markdown",
   "metadata": {},
   "source": [
    "### Run the yml file\n",
    "\n",
    "##### Take note to update the commands below as appropriate for your names\n",
    "\n",
    "```BASH\n",
    "kubectl create -f pod_pvc.yml    \n",
    "```\n",
    "\n",
    "#### Confirm the pod is running, then access it.\n",
    "\n",
    "```\n",
    "kubectl exec -it pod_name -- /bin/bash\n",
    "```\n",
    "\n",
    "#### Once you are in the pod, confirm the file storage is attached\n",
    "\n",
    "We can use the `df -h` command to confirm that we have a `/data` folder with 50 GB of storage.\n",
    "Note, that `/data` in this case would be the edit on line 18 of the `pod_pvc.yml`\n",
    "\n",
    "```BASH\n",
    "root@pod-scottgs:/# df -h\n",
    "Filesystem                                                                                                                                                                                   Size  Used Avail Use% Mounted on\n",
    "overlay                                                                                                                                                                                        300G   38G  263G  13% /\n",
    "tmpfs                                                                                                                                                                                           64M     0   64M   0% /dev\n",
    "tmpfs                                                                                                                                                                                          252G     0  252G   0% /sys/fs/cgroup\n",
    "10.110.132.244:6789,10.107.185.33:6789,10.100.205.16:6789,10.103.88.157:6789,10.98.249.12:6789:/volumes/csi/csi-vol-7e26f559-a07f-11ec-9f90-ae01ed319120/bb0c2797-3dc4-4bc0-abe5-2bd705d8e7d9   50G     0   50G   0% /data\n",
    "/dev/mapper/k8s-kubelet                                                                                                                                                                         97G  303M   96G   1% /etc/hosts\n",
    "/dev/mapper/k8s-docker                                                                                                                                                                \n",
    "```\n",
    "\n",
    "#### Write some data into the `/data` folder\n",
    "\n",
    "We will capture the CPU Information for our pod into a text file.\n",
    "Note, `/data` is what I chose for line 18 of the `pod_pvc.yml`\n",
    "\n",
    "```BASH\n",
    "cat /proc/cpuinfo > /data/cpuinfo\n",
    "```\n",
    "\n",
    "\n"
   ]
  },
  {
   "cell_type": "markdown",
   "metadata": {},
   "source": [
    "## Repeat steps from the [Setup and Test kubectl](./activities/SetupAndTest_kubectl.ipynb)  \n",
    "\n",
    "This time you will find that after:  \n",
    "* closing the pod  \n",
    "* deleting the pod  \n",
    "\n",
    "## Re-spawn the pod, and check that your data is still there\n",
    "\n",
    "* creating pod again  \n",
    "* accessing the pod  \n",
    "\n",
    "#### Test that you data is still there:\n",
    "\n",
    "Run the command, as before the `/data` should be customized based on your choices.\n"
   ]
  },
  {
   "cell_type": "markdown",
   "metadata": {},
   "source": [
    "# Part2: Copy data from one persistent volume to another"
   ]
  },
  {
   "cell_type": "markdown",
   "metadata": {},
   "source": [
    "Kubernetes allows that to mount more than one persistent volume to one pod. \n",
    "This grants us access to both persistent volumea at the same time provided that they are both a part of the same namespace."
   ]
  },
  {
   "cell_type": "markdown",
   "metadata": {},
   "source": [
    "We have prepared data for you to use in your exercise but you need to move it to the persistent volume you created.\n",
    "\n",
    "A pod may not be enough for such task, \n",
    "after all pods are meant for simple tasks such as testing and development. \n",
    "Instead we will be using a **job**."
   ]
  },
  {
   "cell_type": "markdown",
   "metadata": {},
   "source": [
    "## Modify the yaml file for the job"
   ]
  },
  {
   "cell_type": "markdown",
   "metadata": {},
   "source": [
    "Open `resources/job_copy_data.yml` in a text editor and perform the following:   \n",
    "* line  4: replace **sso** with your SSO     \n",
    "* line  9: replace **sso** with your SSO\n",
    "* line 13: Replace *update* with the name for how your persistent volume will appear when accessing the node\n",
    "* line 17: Replace *update* with the same name used in line 13\n",
    "* line 32: Add the name of your persitent volume    \n",
    " \n",
    "  "
   ]
  },
  {
   "cell_type": "markdown",
   "metadata": {},
   "source": [
    "## Run the job yml file\n",
    "\n",
    "```BASH\n",
    "kubectl -n gpn-mizzou-tutorial create -f job_copy_data.yml\n",
    "```"
   ]
  },
  {
   "cell_type": "markdown",
   "metadata": {},
   "source": [
    "## Check jobs\n",
    "\n",
    "```BASH\n",
    "kubectl -n gpn-mizzou-tutorial get jobs\n",
    "```\n",
    "\n",
    "\n",
    "#### Do you see a job with duration?\n",
    "\n",
    "```BASH\n",
    "jovyan@jupyter-scottgs-40missouri-2eedu:~$ kubectl -n gpn-mizzou-tutorial get jobs\n",
    "NAME                        COMPLETIONS   DURATION   AGE\n",
    "job-data-download-scottgs   0/1           33s        34s\n",
    "```"
   ]
  },
  {
   "cell_type": "markdown",
   "metadata": {},
   "source": [
    "## Check pod \n",
    "\n",
    "`kubectl -n gpn-mizzou-tutorial get pods`\n",
    "    \n",
    "   \n",
    "#### Progress Check: Do you see a running data-download pod with your SSO?\n",
    "\n",
    "```BASH\n",
    "jovyan@jupyter-scottgs-40missouri-2eedu:~$ kubectl -n gpn-mizzou-tutorial get pods\n",
    "NAME                                 READY   STATUS    RESTARTS   AGE\n",
    "job-data-download-scottgs--1-626z2   1/1     Running   0          55s\n",
    "pod-name-sso                         0/1     Error     0          3d17h\n",
    "```\n"
   ]
  },
  {
   "cell_type": "markdown",
   "metadata": {},
   "source": [
    "#### Error Checking:\n",
    "\n",
    "If you have an error status, you can use the command (replacing pod-name with the NAME from the command above).: \n",
    "```\n",
    "kubectl -n gpn-mizzou-tutorial describe pods pod-name\n",
    "```"
   ]
  },
  {
   "cell_type": "markdown",
   "metadata": {},
   "source": [
    "### Check for data copy success\n",
    "\n",
    "Once you see that the job pob is completed you can proceed.   \n",
    "Example, note the STATUS is Completed.\n",
    "\n",
    "```\n",
    "jovyan@jupyter-scottgs-40missouri-2eedu:~$ kubectl get pods\n",
    "NAME                                 READY   STATUS      RESTARTS   AGE\n",
    "job-data-download-scottgs--1-626z2   0/1     Completed   0          7m46s\n",
    "pod-name-sso                         0/1     Error       0          3d17h\n",
    "```\n",
    "\n",
    "* Spin up a pod that has the mount (look up to Part 1).\n",
    "* Log into the pod and look for data\n",
    "```BASH\n",
    "kubectl -n gpn-mizzou-tutorial exec -it pod_name -- /bin/bash    \n",
    "cd /data    \n",
    "ls\n",
    "```\n",
    "\n",
    "\n"
   ]
  },
  {
   "cell_type": "markdown",
   "metadata": {},
   "source": [
    "##### Expected Check Output is Similar to this\n",
    "\n",
    "```BASH\n",
    "jovyan@jupyter-scottgs-40missouri-2eedu:~$ kubectl -n gpn-mizzou-tutorial exec -it pod-scottgs -- /bin/bash\n",
    "root@pod-scottgs:/# cd /data/\n",
    "root@pod-scottgs:/data# ls\n",
    "U_Net_evaluation.py  U_Net_training.py  create_fold_lists.py  images  lists  models\n",
    "U_Net_prediction.py  cpuinfo            evaluation            labels  logs   predictions\n",
    "root@pod-scottgs:/data# \n",
    "```\n",
    "\n"
   ]
  },
  {
   "cell_type": "markdown",
   "metadata": {},
   "source": [
    "---\n",
    "\n",
    "# Part 3: Clean Up!\n",
    "\n",
    "Once you have captured all the necessary screen shots, please clean up the pods and jobs.\n",
    "\n",
    "**Important** Do not clean up your persistent volume storage, as the data you copied in is **required** for the next part of the workshop!\n",
    "\n",
    "Here are some hints on clean up, where you will need to update them a little. \n",
    "\n",
    "See the Kubernetes documentation.\n",
    " * Cleaning up a job or pod: `kubectl -n gpn-mizzou-tutorial delete -f job_copy_data.yml`\n"
   ]
  },
  {
   "cell_type": "markdown",
   "metadata": {},
   "source": [
    "---\n",
    "\n",
    "# Notebook Complete\n",
    "\n",
    "You have learned how to\n",
    " * Create a persistent storage volume\n",
    " * Mount persistent storage volumes to pods\n",
    " * Configure jobs to execute commands\n",
    " "
   ]
  }
 ],
 "metadata": {
  "kernelspec": {
   "display_name": "Python 3 (ipykernel)",
   "language": "python",
   "name": "python3"
  },
  "language_info": {
   "codemirror_mode": {
    "name": "ipython",
    "version": 3
   },
   "file_extension": ".py",
   "mimetype": "text/x-python",
   "name": "python",
   "nbconvert_exporter": "python",
   "pygments_lexer": "ipython3",
   "version": "3.9.10"
  }
 },
 "nbformat": 4,
 "nbformat_minor": 4
}
